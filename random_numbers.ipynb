{
 "cells": [
  {
   "cell_type": "code",
   "execution_count": 1,
   "id": "46221d8c",
   "metadata": {},
   "outputs": [],
   "source": [
    "# Import the random module.\n",
    "import random"
   ]
  },
  {
   "cell_type": "code",
   "execution_count": 3,
   "id": "acdb5702",
   "metadata": {},
   "outputs": [
    {
     "data": {
      "text/plain": [
       "-11"
      ]
     },
     "execution_count": 3,
     "metadata": {},
     "output_type": "execute_result"
    }
   ],
   "source": [
    "random.randint(-90, 90)"
   ]
  },
  {
   "cell_type": "code",
   "execution_count": 4,
   "id": "a953531e",
   "metadata": {},
   "outputs": [
    {
     "data": {
      "text/plain": [
       "0.732898659507571"
      ]
     },
     "execution_count": 4,
     "metadata": {},
     "output_type": "execute_result"
    }
   ],
   "source": [
    "random.random()"
   ]
  },
  {
   "cell_type": "code",
   "execution_count": 7,
   "id": "feb2e490",
   "metadata": {},
   "outputs": [
    {
     "data": {
      "text/plain": [
       "[86.95775573011149,\n",
       " -25.98476175103174,\n",
       " 32.73235731711767,\n",
       " 4.662817550987188,\n",
       " -71.92135641319503,\n",
       " -83.54743367939534,\n",
       " -87.37084774244288,\n",
       " -51.8101349419395,\n",
       " -81.73206667335957,\n",
       " -19.92778280665108]"
      ]
     },
     "execution_count": 7,
     "metadata": {},
     "output_type": "execute_result"
    }
   ],
   "source": [
    "#ten random lat longs\n",
    "x = 1\n",
    "latitudes = []\n",
    "while x < 11:\n",
    "    random_lat = random.randint(-90, 89) + random.random()\n",
    "    latitudes.append(random_lat)\n",
    "    x += 1\n",
    "    \n",
    "latitudes"
   ]
  },
  {
   "cell_type": "code",
   "execution_count": 8,
   "id": "67ae2d80",
   "metadata": {},
   "outputs": [],
   "source": [
    "# Import the NumPy module.\n",
    "import numpy as np"
   ]
  },
  {
   "cell_type": "code",
   "execution_count": 9,
   "id": "e97f2289",
   "metadata": {},
   "outputs": [
    {
     "data": {
      "text/plain": [
       "-48.3743699718734"
      ]
     },
     "execution_count": 9,
     "metadata": {},
     "output_type": "execute_result"
    }
   ],
   "source": [
    "np.random.uniform(-90.000, 90.000)"
   ]
  },
  {
   "cell_type": "code",
   "execution_count": 10,
   "id": "7d95a8cc",
   "metadata": {},
   "outputs": [
    {
     "data": {
      "text/plain": [
       "array([ 49.83366518,  13.5982916 ,  56.15811401,  76.59270538,\n",
       "        -9.66577567,  69.0575312 ,  -8.25883784, -79.8186893 ,\n",
       "        50.13620244,  58.74342381,  32.71942679,  46.3700738 ,\n",
       "        29.84855378,  15.79788462,  68.35085615,  88.0392815 ,\n",
       "        51.80308517, -69.05177196, -69.57499056, -70.93140487,\n",
       "        41.92361973,  -0.63027858, -27.22082404,  56.9454427 ,\n",
       "         0.36174557, -64.15133677,  23.81692828,  58.5443434 ,\n",
       "        75.31193197,  74.34319258, -72.75502806, -77.62500182,\n",
       "        42.5696636 , -75.40402103,  82.88982629,  54.95991982,\n",
       "         3.05309303, -48.81213294, -81.20624953, -65.74740742,\n",
       "        16.12096285, -32.59199612, -39.19699078,  72.96721637,\n",
       "       -58.74860069,  31.32063707, -28.63344799, -48.60872681,\n",
       "       -19.43877893,  51.73123783])"
      ]
     },
     "execution_count": 10,
     "metadata": {},
     "output_type": "execute_result"
    }
   ],
   "source": [
    "np.random.uniform(-90.000, 90.000, size=50)"
   ]
  },
  {
   "cell_type": "code",
   "execution_count": 16,
   "id": "238b83d7",
   "metadata": {},
   "outputs": [],
   "source": [
    "# Import timeit.\n",
    "import timeit"
   ]
  },
  {
   "cell_type": "code",
   "execution_count": 17,
   "id": "9a8bf21b",
   "metadata": {},
   "outputs": [
    {
     "name": "stdout",
     "output_type": "stream",
     "text": [
      "12.5 µs ± 97.9 ns per loop (mean ± std. dev. of 7 runs, 100000 loops each)\n"
     ]
    }
   ],
   "source": [
    "%timeit np.random.uniform(-90.000, 90.000, size=1500)"
   ]
  },
  {
   "cell_type": "code",
   "execution_count": 18,
   "id": "e75f3118",
   "metadata": {},
   "outputs": [
    {
     "name": "stdout",
     "output_type": "stream",
     "text": [
      "1.76 ms ± 7.62 µs per loop (mean ± std. dev. of 7 runs, 1000 loops each)\n"
     ]
    }
   ],
   "source": [
    "def latitudes(size):\n",
    "    latitudes = []\n",
    "    x = 0\n",
    "    while x < (size):\n",
    "        random_lat = random.randint(-90, 90) + random.random()\n",
    "        latitudes.append(random_lat)\n",
    "        x += 1\n",
    "    return latitudes\n",
    "# Call the function with 1500.\n",
    "%timeit latitudes(1500)"
   ]
  },
  {
   "cell_type": "code",
   "execution_count": null,
   "id": "41d61ca6",
   "metadata": {},
   "outputs": [],
   "source": []
  }
 ],
 "metadata": {
  "kernelspec": {
   "display_name": "PythonData",
   "language": "python",
   "name": "pythondata"
  },
  "language_info": {
   "codemirror_mode": {
    "name": "ipython",
    "version": 3
   },
   "file_extension": ".py",
   "mimetype": "text/x-python",
   "name": "python",
   "nbconvert_exporter": "python",
   "pygments_lexer": "ipython3",
   "version": "3.7.10"
  }
 },
 "nbformat": 4,
 "nbformat_minor": 5
}
